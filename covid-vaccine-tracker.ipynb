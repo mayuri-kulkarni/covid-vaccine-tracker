{
 "cells": [
  {
   "cell_type": "code",
   "execution_count": 1,
   "metadata": {
    "_cell_guid": "b1076dfc-b9ad-4769-8c92-a6c4dae69d19",
    "_uuid": "8f2839f25d086af736a60e9eeb907d3b93b6e0e5",
    "execution": {
     "iopub.execute_input": "2021-03-20T16:12:26.550867Z",
     "iopub.status.busy": "2021-03-20T16:12:26.550183Z",
     "iopub.status.idle": "2021-03-20T16:12:26.659762Z",
     "shell.execute_reply": "2021-03-20T16:12:26.658966Z"
    },
    "papermill": {
     "duration": 0.128985,
     "end_time": "2021-03-20T16:12:26.659973",
     "exception": false,
     "start_time": "2021-03-20T16:12:26.530988",
     "status": "completed"
    },
    "tags": []
   },
   "outputs": [
    {
     "name": "stdout",
     "output_type": "stream",
     "text": [
      "/kaggle/input/covid-world-vaccination-progress/country_vaccinations.csv\n"
     ]
    },
    {
     "data": {
      "text/html": [
       "<div>\n",
       "<style scoped>\n",
       "    .dataframe tbody tr th:only-of-type {\n",
       "        vertical-align: middle;\n",
       "    }\n",
       "\n",
       "    .dataframe tbody tr th {\n",
       "        vertical-align: top;\n",
       "    }\n",
       "\n",
       "    .dataframe thead th {\n",
       "        text-align: right;\n",
       "    }\n",
       "</style>\n",
       "<table border=\"1\" class=\"dataframe\">\n",
       "  <thead>\n",
       "    <tr style=\"text-align: right;\">\n",
       "      <th></th>\n",
       "      <th>country</th>\n",
       "      <th>iso_code</th>\n",
       "      <th>date</th>\n",
       "      <th>total_vaccinations</th>\n",
       "      <th>people_vaccinated</th>\n",
       "      <th>people_fully_vaccinated</th>\n",
       "      <th>daily_vaccinations_raw</th>\n",
       "      <th>daily_vaccinations</th>\n",
       "      <th>total_vaccinations_per_hundred</th>\n",
       "      <th>people_vaccinated_per_hundred</th>\n",
       "      <th>people_fully_vaccinated_per_hundred</th>\n",
       "      <th>daily_vaccinations_per_million</th>\n",
       "      <th>vaccines</th>\n",
       "      <th>source_name</th>\n",
       "      <th>source_website</th>\n",
       "    </tr>\n",
       "  </thead>\n",
       "  <tbody>\n",
       "    <tr>\n",
       "      <th>0</th>\n",
       "      <td>Afghanistan</td>\n",
       "      <td>AFG</td>\n",
       "      <td>2021-02-22</td>\n",
       "      <td>0.0</td>\n",
       "      <td>0.0</td>\n",
       "      <td>NaN</td>\n",
       "      <td>NaN</td>\n",
       "      <td>NaN</td>\n",
       "      <td>0.0</td>\n",
       "      <td>0.0</td>\n",
       "      <td>NaN</td>\n",
       "      <td>NaN</td>\n",
       "      <td>Oxford/AstraZeneca</td>\n",
       "      <td>Government of Afghanistan</td>\n",
       "      <td>http://www.xinhuanet.com/english/asiapacific/2...</td>\n",
       "    </tr>\n",
       "    <tr>\n",
       "      <th>1</th>\n",
       "      <td>Afghanistan</td>\n",
       "      <td>AFG</td>\n",
       "      <td>2021-02-23</td>\n",
       "      <td>NaN</td>\n",
       "      <td>NaN</td>\n",
       "      <td>NaN</td>\n",
       "      <td>NaN</td>\n",
       "      <td>1367.0</td>\n",
       "      <td>NaN</td>\n",
       "      <td>NaN</td>\n",
       "      <td>NaN</td>\n",
       "      <td>35.0</td>\n",
       "      <td>Oxford/AstraZeneca</td>\n",
       "      <td>Government of Afghanistan</td>\n",
       "      <td>http://www.xinhuanet.com/english/asiapacific/2...</td>\n",
       "    </tr>\n",
       "    <tr>\n",
       "      <th>2</th>\n",
       "      <td>Afghanistan</td>\n",
       "      <td>AFG</td>\n",
       "      <td>2021-02-24</td>\n",
       "      <td>NaN</td>\n",
       "      <td>NaN</td>\n",
       "      <td>NaN</td>\n",
       "      <td>NaN</td>\n",
       "      <td>1367.0</td>\n",
       "      <td>NaN</td>\n",
       "      <td>NaN</td>\n",
       "      <td>NaN</td>\n",
       "      <td>35.0</td>\n",
       "      <td>Oxford/AstraZeneca</td>\n",
       "      <td>Government of Afghanistan</td>\n",
       "      <td>http://www.xinhuanet.com/english/asiapacific/2...</td>\n",
       "    </tr>\n",
       "  </tbody>\n",
       "</table>\n",
       "</div>"
      ],
      "text/plain": [
       "       country iso_code        date  total_vaccinations  people_vaccinated  \\\n",
       "0  Afghanistan      AFG  2021-02-22                 0.0                0.0   \n",
       "1  Afghanistan      AFG  2021-02-23                 NaN                NaN   \n",
       "2  Afghanistan      AFG  2021-02-24                 NaN                NaN   \n",
       "\n",
       "   people_fully_vaccinated  daily_vaccinations_raw  daily_vaccinations  \\\n",
       "0                      NaN                     NaN                 NaN   \n",
       "1                      NaN                     NaN              1367.0   \n",
       "2                      NaN                     NaN              1367.0   \n",
       "\n",
       "   total_vaccinations_per_hundred  people_vaccinated_per_hundred  \\\n",
       "0                             0.0                            0.0   \n",
       "1                             NaN                            NaN   \n",
       "2                             NaN                            NaN   \n",
       "\n",
       "   people_fully_vaccinated_per_hundred  daily_vaccinations_per_million  \\\n",
       "0                                  NaN                             NaN   \n",
       "1                                  NaN                            35.0   \n",
       "2                                  NaN                            35.0   \n",
       "\n",
       "             vaccines                source_name  \\\n",
       "0  Oxford/AstraZeneca  Government of Afghanistan   \n",
       "1  Oxford/AstraZeneca  Government of Afghanistan   \n",
       "2  Oxford/AstraZeneca  Government of Afghanistan   \n",
       "\n",
       "                                      source_website  \n",
       "0  http://www.xinhuanet.com/english/asiapacific/2...  \n",
       "1  http://www.xinhuanet.com/english/asiapacific/2...  \n",
       "2  http://www.xinhuanet.com/english/asiapacific/2...  "
      ]
     },
     "execution_count": 1,
     "metadata": {},
     "output_type": "execute_result"
    }
   ],
   "source": [
    "\n",
    "import numpy as np # linear algebra\n",
    "import pandas as pd # data processing, CSV file I/O (e.g. pd.read_csv)\n",
    "import matplotlib.pyplot as plt\n",
    "\n",
    "import os\n",
    "for dirname, _, filenames in os.walk('/kaggle/input'):\n",
    "    for filename in filenames:\n",
    "        print(os.path.join(dirname, filename))\n",
    "\n",
    "df=pd.read_csv(\"/kaggle/input/covid-world-vaccination-progress/country_vaccinations.csv\")\n",
    "\n",
    "df.head(3)"
   ]
  },
  {
   "cell_type": "markdown",
   "metadata": {
    "papermill": {
     "duration": 0.011333,
     "end_time": "2021-03-20T16:12:26.683540",
     "exception": false,
     "start_time": "2021-03-20T16:12:26.672207",
     "status": "completed"
    },
    "tags": []
   },
   "source": [
    "# Data preparation and summary"
   ]
  },
  {
   "cell_type": "markdown",
   "metadata": {
    "papermill": {
     "duration": 0.011338,
     "end_time": "2021-03-20T16:12:26.706542",
     "exception": false,
     "start_time": "2021-03-20T16:12:26.695204",
     "status": "completed"
    },
    "tags": []
   },
   "source": [
    "## List of vaccines"
   ]
  },
  {
   "cell_type": "code",
   "execution_count": 2,
   "metadata": {
    "execution": {
     "iopub.execute_input": "2021-03-20T16:12:26.738814Z",
     "iopub.status.busy": "2021-03-20T16:12:26.737993Z",
     "iopub.status.idle": "2021-03-20T16:12:26.743864Z",
     "shell.execute_reply": "2021-03-20T16:12:26.743170Z"
    },
    "papermill": {
     "duration": 0.025659,
     "end_time": "2021-03-20T16:12:26.744028",
     "exception": false,
     "start_time": "2021-03-20T16:12:26.718369",
     "status": "completed"
    },
    "tags": []
   },
   "outputs": [
    {
     "name": "stdout",
     "output_type": "stream",
     "text": [
      "list of all vaccines  -\n",
      " ['Oxford/AstraZeneca', 'Pfizer/BioNTech', 'Sputnik V', 'Sinopharm/Beijing', 'Moderna', 'Sinovac', 'Sinopharm/Wuhan', 'Covaxin', 'EpiVacCorona', 'Johnson&Johnson']\n"
     ]
    }
   ],
   "source": [
    "def flat_unique_elements(array_of_array):\n",
    "    vaccine_list = []\n",
    "    for childArray in array_of_array:\n",
    "        for child in childArray.split(\",\"):\n",
    "            if child.strip() not in vaccine_list:\n",
    "                vaccine_list.append(child.strip())\n",
    "    return vaccine_list\n",
    "\n",
    "vaccines = flat_unique_elements(df['vaccines'].unique())\n",
    "\n",
    "print(\"list of all vaccines  -\\n\", vaccines)"
   ]
  },
  {
   "cell_type": "markdown",
   "metadata": {
    "papermill": {
     "duration": 0.011773,
     "end_time": "2021-03-20T16:12:26.767979",
     "exception": false,
     "start_time": "2021-03-20T16:12:26.756206",
     "status": "completed"
    },
    "tags": []
   },
   "source": [
    "## List of vaccines and countries who have started its vaccination\n",
    "\n",
    "     vaccine    country\n",
    "     \n",
    "     vaccine 1  country 1, 3\n",
    "     vaccine 2  country 1, 4\n"
   ]
  },
  {
   "cell_type": "code",
   "execution_count": 3,
   "metadata": {
    "execution": {
     "iopub.execute_input": "2021-03-20T16:12:26.804606Z",
     "iopub.status.busy": "2021-03-20T16:12:26.803925Z",
     "iopub.status.idle": "2021-03-20T16:12:26.856634Z",
     "shell.execute_reply": "2021-03-20T16:12:26.857252Z"
    },
    "papermill": {
     "duration": 0.077169,
     "end_time": "2021-03-20T16:12:26.857430",
     "exception": false,
     "start_time": "2021-03-20T16:12:26.780261",
     "status": "completed"
    },
    "tags": []
   },
   "outputs": [
    {
     "name": "stdout",
     "output_type": "stream",
     "text": [
      "             vaccines                                            country\n",
      "0  Oxford/AstraZeneca  Afghanistan,Angola,Anguilla,Antigua and Barbud...\n",
      "1     Pfizer/BioNTech  Albania,Andorra,Australia,Austria,Bahrain,Belg...\n",
      "2           Sputnik V  Algeria,Argentina,Bahrain,Belarus,Bolivia,Guin...\n",
      "3   Sinopharm/Beijing  Argentina,Bahrain,Cambodia,China,Egypt,Equator...\n",
      "4             Moderna  Austria,Belgium,Bulgaria,Canada,Czechia,Denmar...\n",
      "5             Sinovac  Azerbaijan,Brazil,Chile,China,Colombia,Dominic...\n",
      "6     Sinopharm/Wuhan                         China,United Arab Emirates\n",
      "7             Covaxin                                              India\n",
      "8        EpiVacCorona                                             Russia\n",
      "9     Johnson&Johnson                         South Africa,United States\n"
     ]
    }
   ],
   "source": [
    "vaccine_country_list = pd.DataFrame(columns = ['vaccines','country'])\n",
    "df_vaccine_country = df[[\"country\", \"vaccines\"]].drop_duplicates()\n",
    "# for vaccine in vaccines:\n",
    "for vaccine in vaccines:\n",
    "    c = df_vaccine_country[df_vaccine_country.vaccines.str.contains(vaccine)]\n",
    "    d = df_vaccine_country[df_vaccine_country.vaccines.map(lambda p : vaccine in p)]\n",
    "    a = flat_unique_elements(c.country)\n",
    "    s = \",\".join(x for x in a)\n",
    "    vaccine_country_list = vaccine_country_list.append({'vaccines': vaccine, 'country': s}, ignore_index=True)\n",
    "\n",
    "print(vaccine_country_list)\n"
   ]
  },
  {
   "cell_type": "markdown",
   "metadata": {
    "papermill": {
     "duration": 0.012414,
     "end_time": "2021-03-20T16:12:26.882420",
     "exception": false,
     "start_time": "2021-03-20T16:12:26.870006",
     "status": "completed"
    },
    "tags": []
   },
   "source": [
    "## Find out which vaccines are used by a country\n",
    "\n",
    "    country     vaccines\n",
    "\n",
    "    country 1   vaccine 1, 2, 3\n",
    "    country 1   vaccine 1, 2, 3"
   ]
  },
  {
   "cell_type": "code",
   "execution_count": 4,
   "metadata": {
    "execution": {
     "iopub.execute_input": "2021-03-20T16:12:26.917002Z",
     "iopub.status.busy": "2021-03-20T16:12:26.915935Z",
     "iopub.status.idle": "2021-03-20T16:12:26.931484Z",
     "shell.execute_reply": "2021-03-20T16:12:26.930656Z"
    },
    "papermill": {
     "duration": 0.036658,
     "end_time": "2021-03-20T16:12:26.931689",
     "exception": false,
     "start_time": "2021-03-20T16:12:26.895031",
     "status": "completed"
    },
    "tags": []
   },
   "outputs": [
    {
     "name": "stdout",
     "output_type": "stream",
     "text": [
      "          country                             vaccines\n",
      "0     Afghanistan                   Oxford/AstraZeneca\n",
      "23        Albania                      Pfizer/BioNTech\n",
      "90        Algeria                            Sputnik V\n",
      "112       Andorra                      Pfizer/BioNTech\n",
      "157        Angola                   Oxford/AstraZeneca\n",
      "...           ...                                  ...\n",
      "7161      Uruguay             Pfizer/BioNTech, Sinovac\n",
      "7182    Venezuela                            Sputnik V\n",
      "7198      Vietnam                   Oxford/AstraZeneca\n",
      "7211        Wales  Oxford/AstraZeneca, Pfizer/BioNTech\n",
      "7307     Zimbabwe                    Sinopharm/Beijing\n",
      "\n",
      "[150 rows x 2 columns]\n"
     ]
    }
   ],
   "source": [
    "country_vaccines = df[['country','vaccines']].drop_duplicates()\n",
    "all_country = df['country'].unique()\n",
    "\n",
    "country_vaccine = pd.DataFrame(columns = ['country','vaccines'])\n",
    "\n",
    "if(all_country.size==country_vaccines.shape[0]):\n",
    "    country_vaccine = country_vaccines\n",
    "else:\n",
    "    for country in all_country:\n",
    "        vacciness= country_vaccines[ country_vaccines.country == country ]\n",
    "        a= \",\".join( str(x) for x in flat_unique_elements(vacciness.vaccines) )\n",
    "        country_vaccine = country_vaccine.append({'country': country , 'vaccines': str(a) }, ignore_index=True)\n",
    "\n",
    "print(country_vaccine)"
   ]
  },
  {
   "cell_type": "markdown",
   "metadata": {
    "papermill": {
     "duration": 0.013011,
     "end_time": "2021-03-20T16:12:26.959030",
     "exception": false,
     "start_time": "2021-03-20T16:12:26.946019",
     "status": "completed"
    },
    "tags": []
   },
   "source": [
    "# Task 1"
   ]
  },
  {
   "cell_type": "markdown",
   "metadata": {
    "papermill": {
     "duration": 0.012942,
     "end_time": "2021-03-20T16:12:26.985419",
     "exception": false,
     "start_time": "2021-03-20T16:12:26.972477",
     "status": "completed"
    },
    "tags": []
   },
   "source": [
    "##  What vaccines are used and in which countries?\n"
   ]
  },
  {
   "cell_type": "code",
   "execution_count": 5,
   "metadata": {
    "execution": {
     "iopub.execute_input": "2021-03-20T16:12:27.024004Z",
     "iopub.status.busy": "2021-03-20T16:12:27.022789Z",
     "iopub.status.idle": "2021-03-20T16:12:27.028283Z",
     "shell.execute_reply": "2021-03-20T16:12:27.027660Z"
    },
    "papermill": {
     "duration": 0.029773,
     "end_time": "2021-03-20T16:12:27.028430",
     "exception": false,
     "start_time": "2021-03-20T16:12:26.998657",
     "status": "completed"
    },
    "tags": []
   },
   "outputs": [
    {
     "data": {
      "text/html": [
       "<div>\n",
       "<style scoped>\n",
       "    .dataframe tbody tr th:only-of-type {\n",
       "        vertical-align: middle;\n",
       "    }\n",
       "\n",
       "    .dataframe tbody tr th {\n",
       "        vertical-align: top;\n",
       "    }\n",
       "\n",
       "    .dataframe thead th {\n",
       "        text-align: right;\n",
       "    }\n",
       "</style>\n",
       "<table border=\"1\" class=\"dataframe\">\n",
       "  <thead>\n",
       "    <tr style=\"text-align: right;\">\n",
       "      <th></th>\n",
       "      <th>vaccines</th>\n",
       "      <th>country</th>\n",
       "    </tr>\n",
       "  </thead>\n",
       "  <tbody>\n",
       "    <tr>\n",
       "      <th>0</th>\n",
       "      <td>Oxford/AstraZeneca</td>\n",
       "      <td>Afghanistan,Angola,Anguilla,Antigua and Barbud...</td>\n",
       "    </tr>\n",
       "    <tr>\n",
       "      <th>1</th>\n",
       "      <td>Pfizer/BioNTech</td>\n",
       "      <td>Albania,Andorra,Australia,Austria,Bahrain,Belg...</td>\n",
       "    </tr>\n",
       "    <tr>\n",
       "      <th>2</th>\n",
       "      <td>Sputnik V</td>\n",
       "      <td>Algeria,Argentina,Bahrain,Belarus,Bolivia,Guin...</td>\n",
       "    </tr>\n",
       "    <tr>\n",
       "      <th>3</th>\n",
       "      <td>Sinopharm/Beijing</td>\n",
       "      <td>Argentina,Bahrain,Cambodia,China,Egypt,Equator...</td>\n",
       "    </tr>\n",
       "    <tr>\n",
       "      <th>4</th>\n",
       "      <td>Moderna</td>\n",
       "      <td>Austria,Belgium,Bulgaria,Canada,Czechia,Denmar...</td>\n",
       "    </tr>\n",
       "    <tr>\n",
       "      <th>5</th>\n",
       "      <td>Sinovac</td>\n",
       "      <td>Azerbaijan,Brazil,Chile,China,Colombia,Dominic...</td>\n",
       "    </tr>\n",
       "    <tr>\n",
       "      <th>6</th>\n",
       "      <td>Sinopharm/Wuhan</td>\n",
       "      <td>China,United Arab Emirates</td>\n",
       "    </tr>\n",
       "    <tr>\n",
       "      <th>7</th>\n",
       "      <td>Covaxin</td>\n",
       "      <td>India</td>\n",
       "    </tr>\n",
       "    <tr>\n",
       "      <th>8</th>\n",
       "      <td>EpiVacCorona</td>\n",
       "      <td>Russia</td>\n",
       "    </tr>\n",
       "    <tr>\n",
       "      <th>9</th>\n",
       "      <td>Johnson&amp;Johnson</td>\n",
       "      <td>South Africa,United States</td>\n",
       "    </tr>\n",
       "  </tbody>\n",
       "</table>\n",
       "</div>"
      ],
      "text/plain": [
       "             vaccines                                            country\n",
       "0  Oxford/AstraZeneca  Afghanistan,Angola,Anguilla,Antigua and Barbud...\n",
       "1     Pfizer/BioNTech  Albania,Andorra,Australia,Austria,Bahrain,Belg...\n",
       "2           Sputnik V  Algeria,Argentina,Bahrain,Belarus,Bolivia,Guin...\n",
       "3   Sinopharm/Beijing  Argentina,Bahrain,Cambodia,China,Egypt,Equator...\n",
       "4             Moderna  Austria,Belgium,Bulgaria,Canada,Czechia,Denmar...\n",
       "5             Sinovac  Azerbaijan,Brazil,Chile,China,Colombia,Dominic...\n",
       "6     Sinopharm/Wuhan                         China,United Arab Emirates\n",
       "7             Covaxin                                              India\n",
       "8        EpiVacCorona                                             Russia\n",
       "9     Johnson&Johnson                         South Africa,United States"
      ]
     },
     "execution_count": 5,
     "metadata": {},
     "output_type": "execute_result"
    }
   ],
   "source": [
    "vaccine_country_list"
   ]
  },
  {
   "cell_type": "markdown",
   "metadata": {
    "papermill": {
     "duration": 0.013549,
     "end_time": "2021-03-20T16:12:27.055850",
     "exception": false,
     "start_time": "2021-03-20T16:12:27.042301",
     "status": "completed"
    },
    "tags": []
   },
   "source": [
    "\n",
    "## Q2. What country is vaccinated more people?\n"
   ]
  },
  {
   "cell_type": "code",
   "execution_count": 6,
   "metadata": {
    "execution": {
     "iopub.execute_input": "2021-03-20T16:12:27.090356Z",
     "iopub.status.busy": "2021-03-20T16:12:27.089643Z",
     "iopub.status.idle": "2021-03-20T16:12:27.092826Z",
     "shell.execute_reply": "2021-03-20T16:12:27.092265Z"
    },
    "papermill": {
     "duration": 0.023339,
     "end_time": "2021-03-20T16:12:27.092968",
     "exception": false,
     "start_time": "2021-03-20T16:12:27.069629",
     "status": "completed"
    },
    "tags": []
   },
   "outputs": [],
   "source": [
    "most_vaccinated_country = df.loc[df.total_vaccinations.idxmax()]"
   ]
  },
  {
   "cell_type": "code",
   "execution_count": 7,
   "metadata": {
    "execution": {
     "iopub.execute_input": "2021-03-20T16:12:27.129450Z",
     "iopub.status.busy": "2021-03-20T16:12:27.128742Z",
     "iopub.status.idle": "2021-03-20T16:12:27.133732Z",
     "shell.execute_reply": "2021-03-20T16:12:27.133188Z"
    },
    "papermill": {
     "duration": 0.025969,
     "end_time": "2021-03-20T16:12:27.133943",
     "exception": false,
     "start_time": "2021-03-20T16:12:27.107974",
     "status": "completed"
    },
    "tags": []
   },
   "outputs": [
    {
     "data": {
      "text/plain": [
       "country                                                                    United States\n",
       "iso_code                                                                             USA\n",
       "date                                                                          2021-03-19\n",
       "total_vaccinations                                                          118313818.00\n",
       "people_vaccinated                                                            77230061.00\n",
       "people_fully_vaccinated                                                      41934629.00\n",
       "daily_vaccinations_raw                                                        2583810.00\n",
       "daily_vaccinations                                                            2455116.00\n",
       "total_vaccinations_per_hundred                                                     35.38\n",
       "people_vaccinated_per_hundred                                                      23.09\n",
       "people_fully_vaccinated_per_hundred                                                12.54\n",
       "daily_vaccinations_per_million                                                   7341.00\n",
       "vaccines                                       Johnson&Johnson, Moderna, Pfizer/BioNTech\n",
       "source_name                                   Centers for Disease Control and Prevention\n",
       "source_website                         https://covid.cdc.gov/covid-data-tracker/#vacc...\n",
       "Name: 7160, dtype: object"
      ]
     },
     "execution_count": 7,
     "metadata": {},
     "output_type": "execute_result"
    }
   ],
   "source": [
    "most_vaccinated_country"
   ]
  },
  {
   "cell_type": "markdown",
   "metadata": {
    "papermill": {
     "duration": 0.014359,
     "end_time": "2021-03-20T16:12:27.162711",
     "exception": false,
     "start_time": "2021-03-20T16:12:27.148352",
     "status": "completed"
    },
    "tags": []
   },
   "source": [
    "# Visualization"
   ]
  },
  {
   "cell_type": "markdown",
   "metadata": {
    "papermill": {
     "duration": 0.014016,
     "end_time": "2021-03-20T16:12:27.191275",
     "exception": false,
     "start_time": "2021-03-20T16:12:27.177259",
     "status": "completed"
    },
    "tags": []
   },
   "source": [
    "## Plot indias vaccine progress"
   ]
  },
  {
   "cell_type": "code",
   "execution_count": 8,
   "metadata": {
    "execution": {
     "iopub.execute_input": "2021-03-20T16:12:27.229763Z",
     "iopub.status.busy": "2021-03-20T16:12:27.229046Z",
     "iopub.status.idle": "2021-03-20T16:12:27.481469Z",
     "shell.execute_reply": "2021-03-20T16:12:27.480766Z"
    },
    "papermill": {
     "duration": 0.274058,
     "end_time": "2021-03-20T16:12:27.481624",
     "exception": false,
     "start_time": "2021-03-20T16:12:27.207566",
     "status": "completed"
    },
    "tags": []
   },
   "outputs": [
    {
     "data": {
      "text/plain": [
       "<AxesSubplot:>"
      ]
     },
     "execution_count": 8,
     "metadata": {},
     "output_type": "execute_result"
    },
    {
     "data": {
      "image/png": "[encoded data removed]",
      "text/plain": [
       "<Figure size 432x288 with 1 Axes>"
      ]
     },
     "metadata": {
      "needs_background": "light"
     },
     "output_type": "display_data"
    }
   ],
   "source": [
    "\n",
    "required_columns = ['country', 'date', 'total_vaccinations', 'people_vaccinated', 'people_fully_vaccinated', 'vaccines']\n",
    "\n",
    "indian_vaccine_data= df.loc[df['country']==\"India\",required_columns]\n",
    "# indian_vaccine_data.plot( indian_vaccine_data['date'], indian_vaccine_data['total_vaccinations'])\n",
    "indian_vaccine_data.plot()"
   ]
  },
  {
   "cell_type": "markdown",
   "metadata": {
    "papermill": {
     "duration": 0.015883,
     "end_time": "2021-03-20T16:12:27.513481",
     "exception": false,
     "start_time": "2021-03-20T16:12:27.497598",
     "status": "completed"
    },
    "tags": []
   },
   "source": [
    "##  Number of days of vaccination campaingn"
   ]
  },
  {
   "cell_type": "code",
   "execution_count": 9,
   "metadata": {
    "execution": {
     "iopub.execute_input": "2021-03-20T16:12:27.550679Z",
     "iopub.status.busy": "2021-03-20T16:12:27.550014Z",
     "iopub.status.idle": "2021-03-20T16:12:27.713287Z",
     "shell.execute_reply": "2021-03-20T16:12:27.712583Z"
    },
    "papermill": {
     "duration": 0.184157,
     "end_time": "2021-03-20T16:12:27.713460",
     "exception": false,
     "start_time": "2021-03-20T16:12:27.529303",
     "status": "completed"
    },
    "tags": []
   },
   "outputs": [
    {
     "data": {
      "text/plain": [
       "<AxesSubplot:>"
      ]
     },
     "execution_count": 9,
     "metadata": {},
     "output_type": "execute_result"
    },
    {
     "data": {
      "image/png": "[encoded data removed]",
      "text/plain": [
       "<Figure size 432x288 with 1 Axes>"
      ]
     },
     "metadata": {
      "needs_background": "light"
     },
     "output_type": "display_data"
    }
   ],
   "source": [
    "country_days_of_vaccination =df.country.where(df.people_vaccinated>0).value_counts()\n",
    "country_days_of_vaccination.plot()"
   ]
  }
 ],
 "metadata": {
  "kernelspec": {
   "display_name": "Python 3",
   "language": "python",
   "name": "python3"
  },
  "language_info": {
   "codemirror_mode": {
    "name": "ipython",
    "version": 3
   },
   "file_extension": ".py",
   "mimetype": "text/x-python",
   "name": "python",
   "nbconvert_exporter": "python",
   "pygments_lexer": "ipython3",
   "version": "3.7.9"
  },
  "papermill": {
   "default_parameters": {},
   "duration": 8.032074,
   "end_time": "2021-03-20T16:12:28.341349",
   "environment_variables": {},
   "exception": null,
   "input_path": "__notebook__.ipynb",
   "output_path": "__notebook__.ipynb",
   "parameters": {},
   "start_time": "2021-03-20T16:12:20.309275",
   "version": "2.2.2"
  }
 },
 "nbformat": 4,
 "nbformat_minor": 4
}
