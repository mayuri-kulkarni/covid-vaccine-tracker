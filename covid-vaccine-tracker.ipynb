{
 "cells": [
  {
   "cell_type": "code",
   "execution_count": 1,
   "metadata": {
    "_cell_guid": "95502750-1987-4370-949e-b406e618476d",
    "_uuid": "90f9201f-4311-45fd-b43b-355c385ad69c",
    "execution": {
     "iopub.execute_input": "2021-03-24T19:48:09.118692Z",
     "iopub.status.busy": "2021-03-24T19:48:09.118017Z",
     "iopub.status.idle": "2021-03-24T19:48:09.231913Z",
     "shell.execute_reply": "2021-03-24T19:48:09.232748Z"
    },
    "papermill": {
     "duration": 0.134231,
     "end_time": "2021-03-24T19:48:09.233189",
     "exception": false,
     "start_time": "2021-03-24T19:48:09.098958",
     "status": "completed"
    },
    "tags": []
   },
   "outputs": [
    {
     "name": "stdout",
     "output_type": "stream",
     "text": [
      "/kaggle/input/covid-world-vaccination-progress/country_vaccinations.csv\n"
     ]
    },
    {
     "data": {
      "text/html": [
       "<div>\n",
       "<style scoped>\n",
       "    .dataframe tbody tr th:only-of-type {\n",
       "        vertical-align: middle;\n",
       "    }\n",
       "\n",
       "    .dataframe tbody tr th {\n",
       "        vertical-align: top;\n",
       "    }\n",
       "\n",
       "    .dataframe thead th {\n",
       "        text-align: right;\n",
       "    }\n",
       "</style>\n",
       "<table border=\"1\" class=\"dataframe\">\n",
       "  <thead>\n",
       "    <tr style=\"text-align: right;\">\n",
       "      <th></th>\n",
       "      <th>country</th>\n",
       "      <th>iso_code</th>\n",
       "      <th>date</th>\n",
       "      <th>total_vaccinations</th>\n",
       "      <th>people_vaccinated</th>\n",
       "      <th>people_fully_vaccinated</th>\n",
       "      <th>daily_vaccinations_raw</th>\n",
       "      <th>daily_vaccinations</th>\n",
       "      <th>total_vaccinations_per_hundred</th>\n",
       "      <th>people_vaccinated_per_hundred</th>\n",
       "      <th>people_fully_vaccinated_per_hundred</th>\n",
       "      <th>daily_vaccinations_per_million</th>\n",
       "      <th>vaccines</th>\n",
       "      <th>source_name</th>\n",
       "      <th>source_website</th>\n",
       "    </tr>\n",
       "  </thead>\n",
       "  <tbody>\n",
       "    <tr>\n",
       "      <th>0</th>\n",
       "      <td>Afghanistan</td>\n",
       "      <td>AFG</td>\n",
       "      <td>2021-02-22</td>\n",
       "      <td>0.0</td>\n",
       "      <td>0.0</td>\n",
       "      <td>NaN</td>\n",
       "      <td>NaN</td>\n",
       "      <td>NaN</td>\n",
       "      <td>0.0</td>\n",
       "      <td>0.0</td>\n",
       "      <td>NaN</td>\n",
       "      <td>NaN</td>\n",
       "      <td>Oxford/AstraZeneca</td>\n",
       "      <td>Government of Afghanistan</td>\n",
       "      <td>http://www.xinhuanet.com/english/asiapacific/2...</td>\n",
       "    </tr>\n",
       "    <tr>\n",
       "      <th>1</th>\n",
       "      <td>Afghanistan</td>\n",
       "      <td>AFG</td>\n",
       "      <td>2021-02-23</td>\n",
       "      <td>NaN</td>\n",
       "      <td>NaN</td>\n",
       "      <td>NaN</td>\n",
       "      <td>NaN</td>\n",
       "      <td>1367.0</td>\n",
       "      <td>NaN</td>\n",
       "      <td>NaN</td>\n",
       "      <td>NaN</td>\n",
       "      <td>35.0</td>\n",
       "      <td>Oxford/AstraZeneca</td>\n",
       "      <td>Government of Afghanistan</td>\n",
       "      <td>http://www.xinhuanet.com/english/asiapacific/2...</td>\n",
       "    </tr>\n",
       "    <tr>\n",
       "      <th>2</th>\n",
       "      <td>Afghanistan</td>\n",
       "      <td>AFG</td>\n",
       "      <td>2021-02-24</td>\n",
       "      <td>NaN</td>\n",
       "      <td>NaN</td>\n",
       "      <td>NaN</td>\n",
       "      <td>NaN</td>\n",
       "      <td>1367.0</td>\n",
       "      <td>NaN</td>\n",
       "      <td>NaN</td>\n",
       "      <td>NaN</td>\n",
       "      <td>35.0</td>\n",
       "      <td>Oxford/AstraZeneca</td>\n",
       "      <td>Government of Afghanistan</td>\n",
       "      <td>http://www.xinhuanet.com/english/asiapacific/2...</td>\n",
       "    </tr>\n",
       "    <tr>\n",
       "      <th>3</th>\n",
       "      <td>Afghanistan</td>\n",
       "      <td>AFG</td>\n",
       "      <td>2021-02-25</td>\n",
       "      <td>NaN</td>\n",
       "      <td>NaN</td>\n",
       "      <td>NaN</td>\n",
       "      <td>NaN</td>\n",
       "      <td>1367.0</td>\n",
       "      <td>NaN</td>\n",
       "      <td>NaN</td>\n",
       "      <td>NaN</td>\n",
       "      <td>35.0</td>\n",
       "      <td>Oxford/AstraZeneca</td>\n",
       "      <td>Government of Afghanistan</td>\n",
       "      <td>http://www.xinhuanet.com/english/asiapacific/2...</td>\n",
       "    </tr>\n",
       "    <tr>\n",
       "      <th>4</th>\n",
       "      <td>Afghanistan</td>\n",
       "      <td>AFG</td>\n",
       "      <td>2021-02-26</td>\n",
       "      <td>NaN</td>\n",
       "      <td>NaN</td>\n",
       "      <td>NaN</td>\n",
       "      <td>NaN</td>\n",
       "      <td>1367.0</td>\n",
       "      <td>NaN</td>\n",
       "      <td>NaN</td>\n",
       "      <td>NaN</td>\n",
       "      <td>35.0</td>\n",
       "      <td>Oxford/AstraZeneca</td>\n",
       "      <td>Government of Afghanistan</td>\n",
       "      <td>http://www.xinhuanet.com/english/asiapacific/2...</td>\n",
       "    </tr>\n",
       "  </tbody>\n",
       "</table>\n",
       "</div>"
      ],
      "text/plain": [
       "       country iso_code        date  total_vaccinations  people_vaccinated  \\\n",
       "0  Afghanistan      AFG  2021-02-22                 0.0                0.0   \n",
       "1  Afghanistan      AFG  2021-02-23                 NaN                NaN   \n",
       "2  Afghanistan      AFG  2021-02-24                 NaN                NaN   \n",
       "3  Afghanistan      AFG  2021-02-25                 NaN                NaN   \n",
       "4  Afghanistan      AFG  2021-02-26                 NaN                NaN   \n",
       "\n",
       "   people_fully_vaccinated  daily_vaccinations_raw  daily_vaccinations  \\\n",
       "0                      NaN                     NaN                 NaN   \n",
       "1                      NaN                     NaN              1367.0   \n",
       "2                      NaN                     NaN              1367.0   \n",
       "3                      NaN                     NaN              1367.0   \n",
       "4                      NaN                     NaN              1367.0   \n",
       "\n",
       "   total_vaccinations_per_hundred  people_vaccinated_per_hundred  \\\n",
       "0                             0.0                            0.0   \n",
       "1                             NaN                            NaN   \n",
       "2                             NaN                            NaN   \n",
       "3                             NaN                            NaN   \n",
       "4                             NaN                            NaN   \n",
       "\n",
       "   people_fully_vaccinated_per_hundred  daily_vaccinations_per_million  \\\n",
       "0                                  NaN                             NaN   \n",
       "1                                  NaN                            35.0   \n",
       "2                                  NaN                            35.0   \n",
       "3                                  NaN                            35.0   \n",
       "4                                  NaN                            35.0   \n",
       "\n",
       "             vaccines                source_name  \\\n",
       "0  Oxford/AstraZeneca  Government of Afghanistan   \n",
       "1  Oxford/AstraZeneca  Government of Afghanistan   \n",
       "2  Oxford/AstraZeneca  Government of Afghanistan   \n",
       "3  Oxford/AstraZeneca  Government of Afghanistan   \n",
       "4  Oxford/AstraZeneca  Government of Afghanistan   \n",
       "\n",
       "                                      source_website  \n",
       "0  http://www.xinhuanet.com/english/asiapacific/2...  \n",
       "1  http://www.xinhuanet.com/english/asiapacific/2...  \n",
       "2  http://www.xinhuanet.com/english/asiapacific/2...  \n",
       "3  http://www.xinhuanet.com/english/asiapacific/2...  \n",
       "4  http://www.xinhuanet.com/english/asiapacific/2...  "
      ]
     },
     "execution_count": 1,
     "metadata": {},
     "output_type": "execute_result"
    }
   ],
   "source": [
    "\n",
    "import numpy as np # linear algebra\n",
    "import pandas as pd # data processing, CSV file I/O (e.g. pd.read_csv)\n",
    "import matplotlib.pyplot as plt\n",
    "\n",
    "import os\n",
    "for dirname, _, filenames in os.walk('/kaggle/input'):\n",
    "    for filename in filenames:\n",
    "        print(os.path.join(dirname, filename))\n",
    "\n",
    "df=pd.read_csv(\"/kaggle/input/covid-world-vaccination-progress/country_vaccinations.csv\")\n",
    "df.head()"
   ]
  },
  {
   "cell_type": "markdown",
   "metadata": {
    "_cell_guid": "f679f285-bd8d-4b49-8778-38479cea75d7",
    "_uuid": "c0edfcaf-a98f-415c-b099-85d018dd0448",
    "papermill": {
     "duration": 0.012287,
     "end_time": "2021-03-24T19:48:09.259859",
     "exception": false,
     "start_time": "2021-03-24T19:48:09.247572",
     "status": "completed"
    },
    "tags": []
   },
   "source": [
    "# Data preparation and summary"
   ]
  },
  {
   "cell_type": "markdown",
   "metadata": {
    "_cell_guid": "85735b38-ae1f-4ba0-9efa-1527a587bf6d",
    "_uuid": "8d067872-1ee5-4eec-9204-f029e5aadbde",
    "papermill": {
     "duration": 0.012281,
     "end_time": "2021-03-24T19:48:09.284951",
     "exception": false,
     "start_time": "2021-03-24T19:48:09.272670",
     "status": "completed"
    },
    "tags": []
   },
   "source": [
    "Clean data\n",
    "* remove rows where `daily_vaccinations` are NaN"
   ]
  },
  {
   "cell_type": "code",
   "execution_count": 2,
   "metadata": {
    "_cell_guid": "e578c1a7-ad9a-4c01-8e82-9b06f611fe2e",
    "_uuid": "04720160-98ed-4a6d-bf8a-1a4655b75eac",
    "execution": {
     "iopub.execute_input": "2021-03-24T19:48:09.318790Z",
     "iopub.status.busy": "2021-03-24T19:48:09.318095Z",
     "iopub.status.idle": "2021-03-24T19:48:09.341753Z",
     "shell.execute_reply": "2021-03-24T19:48:09.341108Z"
    },
    "papermill": {
     "duration": 0.044299,
     "end_time": "2021-03-24T19:48:09.341916",
     "exception": false,
     "start_time": "2021-03-24T19:48:09.297617",
     "status": "completed"
    },
    "tags": []
   },
   "outputs": [
    {
     "name": "stdout",
     "output_type": "stream",
     "text": [
      "(7744, 15)\n",
      "deleted 2.414772727272727% data\n"
     ]
    }
   ],
   "source": [
    "print( df.shape)\n",
    "original_rows = df.shape[0]\n",
    "# df[pd.isnull(df.daily_vaccinations)]\n",
    "df = df.dropna(subset=['daily_vaccinations'])\n",
    "deleted_rows =  original_rows - df.shape[0]\n",
    "print( \"deleted \" + str(deleted_rows/original_rows*100)+\"% data\" )"
   ]
  },
  {
   "cell_type": "markdown",
   "metadata": {
    "_cell_guid": "dbec9eb8-f8c8-4155-a3d6-893340eac8c1",
    "_uuid": "cb2a31c7-7c62-445c-8279-9c9e0ce72518",
    "papermill": {
     "duration": 0.013367,
     "end_time": "2021-03-24T19:48:09.368911",
     "exception": false,
     "start_time": "2021-03-24T19:48:09.355544",
     "status": "completed"
    },
    "tags": []
   },
   "source": [
    "## List of vaccines"
   ]
  },
  {
   "cell_type": "code",
   "execution_count": 3,
   "metadata": {
    "_cell_guid": "7ff6c7b0-74c4-4a0a-8bb5-0a30f9627780",
    "_uuid": "f0226df3-e64e-4925-ae78-d1c4d22a1f80",
    "execution": {
     "iopub.execute_input": "2021-03-24T19:48:09.405381Z",
     "iopub.status.busy": "2021-03-24T19:48:09.404669Z",
     "iopub.status.idle": "2021-03-24T19:48:09.410830Z",
     "shell.execute_reply": "2021-03-24T19:48:09.410115Z"
    },
    "papermill": {
     "duration": 0.028411,
     "end_time": "2021-03-24T19:48:09.410976",
     "exception": false,
     "start_time": "2021-03-24T19:48:09.382565",
     "status": "completed"
    },
    "tags": []
   },
   "outputs": [
    {
     "name": "stdout",
     "output_type": "stream",
     "text": [
      "list of all vaccines  -\n",
      " ['Oxford/AstraZeneca', 'Pfizer/BioNTech', 'Sputnik V', 'Sinopharm/Beijing', 'Moderna', 'Sinovac', 'Sinopharm/Wuhan', 'Covaxin', 'EpiVacCorona', 'Johnson&Johnson']\n"
     ]
    }
   ],
   "source": [
    "def flat_unique_elements(array_of_array):\n",
    "    vaccine_list = []\n",
    "    for childArray in array_of_array:\n",
    "        for child in childArray.split(\",\"):\n",
    "            if child.strip() not in vaccine_list:\n",
    "                vaccine_list.append(child.strip())\n",
    "    return vaccine_list\n",
    "\n",
    "vaccines = flat_unique_elements(df['vaccines'].unique())\n",
    "\n",
    "print(\"list of all vaccines  -\\n\", vaccines)"
   ]
  },
  {
   "cell_type": "markdown",
   "metadata": {
    "_cell_guid": "7deb0a20-5964-497f-b52e-5777cfbcc85a",
    "_uuid": "af641202-3795-4234-be08-a871ea9a84d4",
    "papermill": {
     "duration": 0.013619,
     "end_time": "2021-03-24T19:48:09.438732",
     "exception": false,
     "start_time": "2021-03-24T19:48:09.425113",
     "status": "completed"
    },
    "tags": []
   },
   "source": [
    "## List of vaccines and countries who have started its vaccination\n",
    "\n",
    "     vaccine    country\n",
    "     \n",
    "     vaccine 1  country 1, 3\n",
    "     vaccine 2  country 1, 4"
   ]
  },
  {
   "cell_type": "code",
   "execution_count": 4,
   "metadata": {
    "_cell_guid": "06e224d5-95fb-4f3c-8d9b-b24cdb2cf33b",
    "_uuid": "bf9fc17d-bca1-4bfc-894a-e7f250824bf4",
    "execution": {
     "iopub.execute_input": "2021-03-24T19:48:09.477711Z",
     "iopub.status.busy": "2021-03-24T19:48:09.476997Z",
     "iopub.status.idle": "2021-03-24T19:48:09.526672Z",
     "shell.execute_reply": "2021-03-24T19:48:09.525945Z"
    },
    "papermill": {
     "duration": 0.07405,
     "end_time": "2021-03-24T19:48:09.526869",
     "exception": false,
     "start_time": "2021-03-24T19:48:09.452819",
     "status": "completed"
    },
    "tags": []
   },
   "outputs": [
    {
     "name": "stdout",
     "output_type": "stream",
     "text": [
      "             vaccines                                            country\n",
      "0  Oxford/AstraZeneca  Afghanistan,Angola,Anguilla,Antigua and Barbud...\n",
      "1     Pfizer/BioNTech  Albania,Andorra,Australia,Austria,Bahrain,Belg...\n",
      "2           Sputnik V  Algeria,Argentina,Bahrain,Belarus,Bolivia,Hung...\n",
      "3   Sinopharm/Beijing  Argentina,Bahrain,Cambodia,China,Egypt,Hungary...\n",
      "4             Moderna  Austria,Belgium,Bulgaria,Canada,Czechia,Denmar...\n",
      "5             Sinovac  Azerbaijan,Brazil,Chile,China,Colombia,Dominic...\n",
      "6     Sinopharm/Wuhan                         China,United Arab Emirates\n",
      "7             Covaxin                                              India\n",
      "8        EpiVacCorona                                             Russia\n",
      "9     Johnson&Johnson                         South Africa,United States\n"
     ]
    }
   ],
   "source": [
    "vaccine_country_list = pd.DataFrame(columns = ['vaccines','country'])\n",
    "df_vaccine_country = df[[\"country\", \"vaccines\"]].drop_duplicates()\n",
    "# for vaccine in vaccines:\n",
    "for vaccine in vaccines:\n",
    "    c = df_vaccine_country[df_vaccine_country.vaccines.str.contains(vaccine)]\n",
    "    d = df_vaccine_country[df_vaccine_country.vaccines.map(lambda p : vaccine in p)]\n",
    "    a = flat_unique_elements(c.country)\n",
    "    s = \",\".join(x for x in a)\n",
    "    vaccine_country_list = vaccine_country_list.append({'vaccines': vaccine, 'country': s}, ignore_index=True)\n",
    "\n",
    "print(vaccine_country_list)"
   ]
  },
  {
   "cell_type": "markdown",
   "metadata": {
    "_cell_guid": "a6fef016-a80b-4be4-add5-cfcb10abc041",
    "_uuid": "9f23fa77-f910-429e-841d-ded1c6f6444e",
    "papermill": {
     "duration": 0.014143,
     "end_time": "2021-03-24T19:48:09.555696",
     "exception": false,
     "start_time": "2021-03-24T19:48:09.541553",
     "status": "completed"
    },
    "tags": []
   },
   "source": [
    "## Find out which vaccines are used by a country\n",
    "\n",
    "    country     vaccines\n",
    "\n",
    "    country 1   vaccine 1, 2, 3\n",
    "    country 1   vaccine 1, 2, 3"
   ]
  },
  {
   "cell_type": "code",
   "execution_count": 5,
   "metadata": {
    "_cell_guid": "ecb5f133-68d1-4ff8-aa83-ac9595f0f038",
    "_uuid": "8ec8abfb-281c-4c18-942b-6d000bfbfce0",
    "execution": {
     "iopub.execute_input": "2021-03-24T19:48:09.593938Z",
     "iopub.status.busy": "2021-03-24T19:48:09.592696Z",
     "iopub.status.idle": "2021-03-24T19:48:09.609316Z",
     "shell.execute_reply": "2021-03-24T19:48:09.608283Z"
    },
    "papermill": {
     "duration": 0.039328,
     "end_time": "2021-03-24T19:48:09.609540",
     "exception": false,
     "start_time": "2021-03-24T19:48:09.570212",
     "status": "completed"
    },
    "tags": []
   },
   "outputs": [
    {
     "name": "stdout",
     "output_type": "stream",
     "text": [
      "          country                             vaccines\n",
      "1     Afghanistan                   Oxford/AstraZeneca\n",
      "24        Albania                      Pfizer/BioNTech\n",
      "96        Algeria                            Sputnik V\n",
      "118       Andorra                      Pfizer/BioNTech\n",
      "163        Angola                   Oxford/AstraZeneca\n",
      "...           ...                                  ...\n",
      "7558      Uruguay             Pfizer/BioNTech, Sinovac\n",
      "7581    Venezuela                            Sputnik V\n",
      "7597      Vietnam                   Oxford/AstraZeneca\n",
      "7613        Wales  Oxford/AstraZeneca, Pfizer/BioNTech\n",
      "7712     Zimbabwe                    Sinopharm/Beijing\n",
      "\n",
      "[146 rows x 2 columns]\n"
     ]
    }
   ],
   "source": [
    "country_vaccines = df[['country','vaccines']].drop_duplicates()\n",
    "all_country = df['country'].unique()\n",
    "\n",
    "country_vaccine = pd.DataFrame(columns = ['country','vaccines'])\n",
    "\n",
    "if(all_country.size==country_vaccines.shape[0]):\n",
    "    country_vaccine = country_vaccines\n",
    "else:\n",
    "    for country in all_country:\n",
    "        vacciness= country_vaccines[ country_vaccines.country == country ]\n",
    "        a= \",\".join( str(x) for x in flat_unique_elements(vacciness.vaccines) )\n",
    "        country_vaccine = country_vaccine.append({'country': country , 'vaccines': str(a) }, ignore_index=True)\n",
    "\n",
    "print(country_vaccine)"
   ]
  },
  {
   "cell_type": "markdown",
   "metadata": {
    "_cell_guid": "30c9555b-85e2-4c7f-8c62-cc66cc2dc60e",
    "_uuid": "6bd2234d-7b7c-465f-af88-12f56d04619e",
    "papermill": {
     "duration": 0.015927,
     "end_time": "2021-03-24T19:48:09.643075",
     "exception": false,
     "start_time": "2021-03-24T19:48:09.627148",
     "status": "completed"
    },
    "tags": []
   },
   "source": [
    "# Task 1"
   ]
  },
  {
   "cell_type": "markdown",
   "metadata": {
    "_cell_guid": "8861b852-2443-4ede-95e0-6b479a3293d1",
    "_uuid": "6620b24f-732f-457b-ac66-9cb60c671f73",
    "papermill": {
     "duration": 0.014797,
     "end_time": "2021-03-24T19:48:09.673469",
     "exception": false,
     "start_time": "2021-03-24T19:48:09.658672",
     "status": "completed"
    },
    "tags": []
   },
   "source": [
    "##  What vaccines are used and in which countries?"
   ]
  },
  {
   "cell_type": "code",
   "execution_count": 6,
   "metadata": {
    "_cell_guid": "c759103b-9e96-4920-a6fc-fe6520f24ef1",
    "_uuid": "372d7bd0-c1fb-477a-b83e-6fa1d6e6ab5e",
    "execution": {
     "iopub.execute_input": "2021-03-24T19:48:09.714531Z",
     "iopub.status.busy": "2021-03-24T19:48:09.713666Z",
     "iopub.status.idle": "2021-03-24T19:48:09.718373Z",
     "shell.execute_reply": "2021-03-24T19:48:09.717705Z"
    },
    "papermill": {
     "duration": 0.030065,
     "end_time": "2021-03-24T19:48:09.718517",
     "exception": false,
     "start_time": "2021-03-24T19:48:09.688452",
     "status": "completed"
    },
    "tags": []
   },
   "outputs": [
    {
     "data": {
      "text/html": [
       "<div>\n",
       "<style scoped>\n",
       "    .dataframe tbody tr th:only-of-type {\n",
       "        vertical-align: middle;\n",
       "    }\n",
       "\n",
       "    .dataframe tbody tr th {\n",
       "        vertical-align: top;\n",
       "    }\n",
       "\n",
       "    .dataframe thead th {\n",
       "        text-align: right;\n",
       "    }\n",
       "</style>\n",
       "<table border=\"1\" class=\"dataframe\">\n",
       "  <thead>\n",
       "    <tr style=\"text-align: right;\">\n",
       "      <th></th>\n",
       "      <th>vaccines</th>\n",
       "      <th>country</th>\n",
       "    </tr>\n",
       "  </thead>\n",
       "  <tbody>\n",
       "    <tr>\n",
       "      <th>0</th>\n",
       "      <td>Oxford/AstraZeneca</td>\n",
       "      <td>Afghanistan,Angola,Anguilla,Antigua and Barbud...</td>\n",
       "    </tr>\n",
       "    <tr>\n",
       "      <th>1</th>\n",
       "      <td>Pfizer/BioNTech</td>\n",
       "      <td>Albania,Andorra,Australia,Austria,Bahrain,Belg...</td>\n",
       "    </tr>\n",
       "    <tr>\n",
       "      <th>2</th>\n",
       "      <td>Sputnik V</td>\n",
       "      <td>Algeria,Argentina,Bahrain,Belarus,Bolivia,Hung...</td>\n",
       "    </tr>\n",
       "    <tr>\n",
       "      <th>3</th>\n",
       "      <td>Sinopharm/Beijing</td>\n",
       "      <td>Argentina,Bahrain,Cambodia,China,Egypt,Hungary...</td>\n",
       "    </tr>\n",
       "    <tr>\n",
       "      <th>4</th>\n",
       "      <td>Moderna</td>\n",
       "      <td>Austria,Belgium,Bulgaria,Canada,Czechia,Denmar...</td>\n",
       "    </tr>\n",
       "    <tr>\n",
       "      <th>5</th>\n",
       "      <td>Sinovac</td>\n",
       "      <td>Azerbaijan,Brazil,Chile,China,Colombia,Dominic...</td>\n",
       "    </tr>\n",
       "    <tr>\n",
       "      <th>6</th>\n",
       "      <td>Sinopharm/Wuhan</td>\n",
       "      <td>China,United Arab Emirates</td>\n",
       "    </tr>\n",
       "    <tr>\n",
       "      <th>7</th>\n",
       "      <td>Covaxin</td>\n",
       "      <td>India</td>\n",
       "    </tr>\n",
       "    <tr>\n",
       "      <th>8</th>\n",
       "      <td>EpiVacCorona</td>\n",
       "      <td>Russia</td>\n",
       "    </tr>\n",
       "    <tr>\n",
       "      <th>9</th>\n",
       "      <td>Johnson&amp;Johnson</td>\n",
       "      <td>South Africa,United States</td>\n",
       "    </tr>\n",
       "  </tbody>\n",
       "</table>\n",
       "</div>"
      ],
      "text/plain": [
       "             vaccines                                            country\n",
       "0  Oxford/AstraZeneca  Afghanistan,Angola,Anguilla,Antigua and Barbud...\n",
       "1     Pfizer/BioNTech  Albania,Andorra,Australia,Austria,Bahrain,Belg...\n",
       "2           Sputnik V  Algeria,Argentina,Bahrain,Belarus,Bolivia,Hung...\n",
       "3   Sinopharm/Beijing  Argentina,Bahrain,Cambodia,China,Egypt,Hungary...\n",
       "4             Moderna  Austria,Belgium,Bulgaria,Canada,Czechia,Denmar...\n",
       "5             Sinovac  Azerbaijan,Brazil,Chile,China,Colombia,Dominic...\n",
       "6     Sinopharm/Wuhan                         China,United Arab Emirates\n",
       "7             Covaxin                                              India\n",
       "8        EpiVacCorona                                             Russia\n",
       "9     Johnson&Johnson                         South Africa,United States"
      ]
     },
     "execution_count": 6,
     "metadata": {},
     "output_type": "execute_result"
    }
   ],
   "source": [
    "vaccine_country_list"
   ]
  },
  {
   "cell_type": "markdown",
   "metadata": {
    "_cell_guid": "c4e6dbbc-6f44-4439-8c33-db5fe4c41f56",
    "_uuid": "2cacd9ef-7dcd-413d-86d6-5ff0a0a96e13",
    "papermill": {
     "duration": 0.015739,
     "end_time": "2021-03-24T19:48:09.750052",
     "exception": false,
     "start_time": "2021-03-24T19:48:09.734313",
     "status": "completed"
    },
    "tags": []
   },
   "source": [
    "\n",
    "## Q2. What country is vaccinated more people?"
   ]
  },
  {
   "cell_type": "code",
   "execution_count": 7,
   "metadata": {
    "_cell_guid": "26421005-d1b0-4c84-8647-f10c5e2e4fd9",
    "_uuid": "14541007-a582-4be4-a55d-6b99c0e8cf5b",
    "execution": {
     "iopub.execute_input": "2021-03-24T19:48:09.790556Z",
     "iopub.status.busy": "2021-03-24T19:48:09.789568Z",
     "iopub.status.idle": "2021-03-24T19:48:09.792316Z",
     "shell.execute_reply": "2021-03-24T19:48:09.791586Z"
    },
    "papermill": {
     "duration": 0.026433,
     "end_time": "2021-03-24T19:48:09.792462",
     "exception": false,
     "start_time": "2021-03-24T19:48:09.766029",
     "status": "completed"
    },
    "tags": []
   },
   "outputs": [],
   "source": [
    "most_vaccinated_country = df.loc[df.total_vaccinations.idxmax()]"
   ]
  },
  {
   "cell_type": "code",
   "execution_count": 8,
   "metadata": {
    "_cell_guid": "f7d9e26e-54dd-4223-b805-dfc369e3f9db",
    "_uuid": "e4d1253c-fa84-4135-b473-00ebf7c3d118",
    "execution": {
     "iopub.execute_input": "2021-03-24T19:48:09.831507Z",
     "iopub.status.busy": "2021-03-24T19:48:09.830721Z",
     "iopub.status.idle": "2021-03-24T19:48:09.837728Z",
     "shell.execute_reply": "2021-03-24T19:48:09.837145Z"
    },
    "papermill": {
     "duration": 0.029546,
     "end_time": "2021-03-24T19:48:09.837889",
     "exception": false,
     "start_time": "2021-03-24T19:48:09.808343",
     "status": "completed"
    },
    "tags": []
   },
   "outputs": [
    {
     "data": {
      "text/plain": [
       "country                                                                    United States\n",
       "iso_code                                                                             USA\n",
       "date                                                                          2021-03-22\n",
       "total_vaccinations                                                          126509736.00\n",
       "people_vaccinated                                                            82772416.00\n",
       "people_fully_vaccinated                                                      44910946.00\n",
       "daily_vaccinations_raw                                                        2028324.00\n",
       "daily_vaccinations                                                            2489697.00\n",
       "total_vaccinations_per_hundred                                                     37.83\n",
       "people_vaccinated_per_hundred                                                      24.75\n",
       "people_fully_vaccinated_per_hundred                                                13.43\n",
       "daily_vaccinations_per_million                                                   7444.00\n",
       "vaccines                                       Johnson&Johnson, Moderna, Pfizer/BioNTech\n",
       "source_name                                   Centers for Disease Control and Prevention\n",
       "source_website                         https://covid.cdc.gov/covid-data-tracker/#vacc...\n",
       "Name: 7555, dtype: object"
      ]
     },
     "execution_count": 8,
     "metadata": {},
     "output_type": "execute_result"
    }
   ],
   "source": [
    "most_vaccinated_country"
   ]
  },
  {
   "cell_type": "markdown",
   "metadata": {
    "_cell_guid": "955cd2e1-a777-4977-b763-57df3a27a424",
    "_uuid": "20f8dfae-adb9-4548-b91f-4f0f1bfe8634",
    "papermill": {
     "duration": 0.015719,
     "end_time": "2021-03-24T19:48:09.869691",
     "exception": false,
     "start_time": "2021-03-24T19:48:09.853972",
     "status": "completed"
    },
    "tags": []
   },
   "source": [
    "# Visualization"
   ]
  },
  {
   "cell_type": "markdown",
   "metadata": {
    "_cell_guid": "d31a4261-e72c-494d-9a77-6f5c04a7e026",
    "_uuid": "692e75ac-523e-489e-ae6d-9a08d4ad61aa",
    "papermill": {
     "duration": 0.015972,
     "end_time": "2021-03-24T19:48:09.901733",
     "exception": false,
     "start_time": "2021-03-24T19:48:09.885761",
     "status": "completed"
    },
    "tags": []
   },
   "source": [
    "## Plot indias vaccine progress"
   ]
  },
  {
   "cell_type": "code",
   "execution_count": 9,
   "metadata": {
    "_cell_guid": "3acf2c1c-9fa2-43ce-9b1c-20a7bea00b05",
    "_uuid": "12c836c3-e69f-4370-be4f-b1db9760a764",
    "execution": {
     "iopub.execute_input": "2021-03-24T19:48:09.947622Z",
     "iopub.status.busy": "2021-03-24T19:48:09.946945Z",
     "iopub.status.idle": "2021-03-24T19:48:10.208456Z",
     "shell.execute_reply": "2021-03-24T19:48:10.207853Z"
    },
    "papermill": {
     "duration": 0.291035,
     "end_time": "2021-03-24T19:48:10.208767",
     "exception": false,
     "start_time": "2021-03-24T19:48:09.917732",
     "status": "completed"
    },
    "tags": []
   },
   "outputs": [
    {
     "name": "stdout",
     "output_type": "stream",
     "text": [
      "     country        date  total_vaccinations  people_vaccinated  \\\n",
      "3257   India  2021-01-16            191181.0           191181.0   \n",
      "3258   India  2021-01-17            224301.0           224301.0   \n",
      "3259   India  2021-01-18            454049.0           454049.0   \n",
      "3260   India  2021-01-19            674835.0           674835.0   \n",
      "3261   India  2021-01-20            806484.0           806484.0   \n",
      "\n",
      "      people_fully_vaccinated                     vaccines  \n",
      "3257                      NaN  Covaxin, Oxford/AstraZeneca  \n",
      "3258                      NaN  Covaxin, Oxford/AstraZeneca  \n",
      "3259                      NaN  Covaxin, Oxford/AstraZeneca  \n",
      "3260                      NaN  Covaxin, Oxford/AstraZeneca  \n",
      "3261                      NaN  Covaxin, Oxford/AstraZeneca  \n"
     ]
    },
    {
     "data": {
      "text/plain": [
       "<AxesSubplot:>"
      ]
     },
     "execution_count": 9,
     "metadata": {},
     "output_type": "execute_result"
    },
    {
     "data": {
      "image/png": "[encoded data removed]",
      "text/plain": [
       "<Figure size 432x288 with 1 Axes>"
      ]
     },
     "metadata": {
      "needs_background": "light"
     },
     "output_type": "display_data"
    }
   ],
   "source": [
    "\n",
    "required_columns = ['country', 'date', 'total_vaccinations', 'people_vaccinated', 'people_fully_vaccinated', 'vaccines']\n",
    "\n",
    "indian_vaccine_data= df.loc[df['country']==\"India\",required_columns]\n",
    "print(indian_vaccine_data.head())\n",
    "# indian_vaccine_data.plot( indian_vaccine_data['date'], indian_vaccine_data['total_vaccinations'])\n",
    "indian_vaccine_data.plot()"
   ]
  },
  {
   "cell_type": "markdown",
   "metadata": {
    "_cell_guid": "a17b9702-a196-465c-8013-19bda6fca9d2",
    "_uuid": "7d49c590-7646-4f42-871e-5300c65123e7",
    "papermill": {
     "duration": 0.017668,
     "end_time": "2021-03-24T19:48:10.245922",
     "exception": false,
     "start_time": "2021-03-24T19:48:10.228254",
     "status": "completed"
    },
    "tags": []
   },
   "source": [
    "##  Number of days of vaccination campaingn"
   ]
  },
  {
   "cell_type": "code",
   "execution_count": 10,
   "metadata": {
    "_cell_guid": "447b45a3-b9b6-4dbb-a361-7fc1c2244c0c",
    "_uuid": "8cf7a275-85c7-4088-b743-27c6f83088f7",
    "execution": {
     "iopub.execute_input": "2021-03-24T19:48:10.291497Z",
     "iopub.status.busy": "2021-03-24T19:48:10.287328Z",
     "iopub.status.idle": "2021-03-24T19:48:10.436971Z",
     "shell.execute_reply": "2021-03-24T19:48:10.436303Z"
    },
    "papermill": {
     "duration": 0.173395,
     "end_time": "2021-03-24T19:48:10.437118",
     "exception": false,
     "start_time": "2021-03-24T19:48:10.263723",
     "status": "completed"
    },
    "tags": []
   },
   "outputs": [
    {
     "data": {
      "text/plain": [
       "<AxesSubplot:>"
      ]
     },
     "execution_count": 10,
     "metadata": {},
     "output_type": "execute_result"
    },
    {
     "data": {
      "image/png": "[encoded data removed]",
      "text/plain": [
       "<Figure size 432x288 with 1 Axes>"
      ]
     },
     "metadata": {
      "needs_background": "light"
     },
     "output_type": "display_data"
    }
   ],
   "source": [
    "country_days_of_vaccination =df.country.where(df.people_vaccinated>0).value_counts()\n",
    "country_days_of_vaccination.plot()"
   ]
  }
 ],
 "metadata": {
  "kernelspec": {
   "display_name": "Python 3",
   "language": "python",
   "name": "python3"
  },
  "language_info": {
   "codemirror_mode": {
    "name": "ipython",
    "version": 3
   },
   "file_extension": ".py",
   "mimetype": "text/x-python",
   "name": "python",
   "nbconvert_exporter": "python",
   "pygments_lexer": "ipython3",
   "version": "3.7.9"
  },
  "papermill": {
   "default_parameters": {},
   "duration": 8.047838,
   "end_time": "2021-03-24T19:48:11.067985",
   "environment_variables": {},
   "exception": null,
   "input_path": "__notebook__.ipynb",
   "output_path": "__notebook__.ipynb",
   "parameters": {},
   "start_time": "2021-03-24T19:48:03.020147",
   "version": "2.2.2"
  }
 },
 "nbformat": 4,
 "nbformat_minor": 4
}
